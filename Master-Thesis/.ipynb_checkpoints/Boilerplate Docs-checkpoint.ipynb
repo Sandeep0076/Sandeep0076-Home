{
 "cells": [
  {
   "cell_type": "markdown",
   "metadata": {},
   "source": [
    "## Imports"
   ]
  },
  {
   "cell_type": "code",
   "execution_count": 3,
   "metadata": {},
   "outputs": [],
   "source": [
    "from boilerpy3 import extractors\n",
    "extractor = extractors.ArticleExtractor()"
   ]
  },
  {
   "cell_type": "markdown",
   "metadata": {},
   "source": [
    "## Ways to extract text"
   ]
  },
  {
   "cell_type": "code",
   "execution_count": 5,
   "metadata": {},
   "outputs": [],
   "source": [
    "# From a URL\n",
    "content = extractor.get_content_from_url('http://www.example.com/')\n",
    "\n",
    "# From a file\n",
    "content = extractor.get_content_from_file('tests/test.html')\n",
    "\n",
    "# From raw HTML\n",
    "content = extractor.get_content('<html><body><h1>Example</h1></body></html>')"
   ]
  },
  {
   "cell_type": "markdown",
   "metadata": {},
   "source": [
    "## Detailed information extraction : use get_doc()"
   ]
  },
  {
   "cell_type": "code",
   "execution_count": 7,
   "metadata": {},
   "outputs": [],
   "source": [
    "doc = extractor.get_doc_from_url('http://www.example.com/')\n",
    "content = doc.content\n",
    "title = doc.title"
   ]
  },
  {
   "cell_type": "markdown",
   "metadata": {},
   "source": [
    "# Extractors\n",
    "\n",
    "## DefaultExtractor\n",
    "Usually worse than ArticleExtractor, but simpler/no heuristics. A quite generic full-text extractor.\n",
    "\n",
    "## ArticleExtractor\n",
    "A full-text extractor which is tuned towards news articles. In this scenario it achieves higher accuracy than DefaultExtractor. Works very well for most types of Article-like HTML.\n",
    "\n",
    "## ArticleSentencesExtractor\n",
    "A full-text extractor which is tuned towards extracting sentences from news articles.\n",
    "\n",
    "## LargestContentExtractor\n",
    "A full-text extractor which extracts the largest text component of a page. For news articles, it may perform better than the DefaultExtractor but usually worse than ArticleExtractor\n",
    "\n",
    "## CanolaExtractor\n",
    "A full-text extractor trained on krdwrd Canola. Works well with SimpleEstimator, too.\n",
    "\n",
    "## KeepEverythingExtractor\n",
    "Dummy extractor which marks everything as content. Should return the input text. Use this to double-check that your problem is within a particular Extractor or somewhere else.\n",
    "\n",
    "## NumWordsRulesExtractor\n",
    "A quite generic full-text extractor solely based upon the number of words per block (the current, the previous and the next block)."
   ]
  },
  {
   "cell_type": "code",
   "execution_count": null,
   "metadata": {},
   "outputs": [],
   "source": []
  },
  {
   "cell_type": "code",
   "execution_count": null,
   "metadata": {},
   "outputs": [],
   "source": []
  }
 ],
 "metadata": {
  "kernelspec": {
   "display_name": "Python 3",
   "language": "python",
   "name": "python3"
  },
  "language_info": {
   "codemirror_mode": {
    "name": "ipython",
    "version": 3
   },
   "file_extension": ".py",
   "mimetype": "text/x-python",
   "name": "python",
   "nbconvert_exporter": "python",
   "pygments_lexer": "ipython3",
   "version": "3.7.6"
  }
 },
 "nbformat": 4,
 "nbformat_minor": 4
}
